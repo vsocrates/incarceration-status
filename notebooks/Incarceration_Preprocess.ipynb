{
 "cells": [
  {
   "cell_type": "markdown",
   "id": "6528ef81",
   "metadata": {},
   "source": [
    "# Create OBI de-ID prediction dataset"
   ]
  },
  {
   "cell_type": "code",
   "execution_count": 1,
   "id": "d0617231",
   "metadata": {},
   "outputs": [],
   "source": [
    "import pandas as pd\n",
    "import jsonlines"
   ]
  },
  {
   "cell_type": "code",
   "execution_count": 2,
   "id": "c2fd7451",
   "metadata": {},
   "outputs": [],
   "source": [
    "notes = pd.read_csv(\"/home/vs428/project/Incarceration_Data/ed_notes_19_20.tsv\", sep=\"\\t\")"
   ]
  },
  {
   "cell_type": "code",
   "execution_count": 3,
   "id": "e4bc7ced",
   "metadata": {},
   "outputs": [
    {
     "data": {
      "text/plain": [
       "(557256, 5)"
      ]
     },
     "execution_count": 3,
     "metadata": {},
     "output_type": "execute_result"
    }
   ],
   "source": [
    "notes.shape"
   ]
  },
  {
   "cell_type": "code",
   "execution_count": 4,
   "id": "1bd35bfe",
   "metadata": {},
   "outputs": [
    {
     "data": {
      "text/plain": [
       "Index(['PAT_ENC_CSN_ID', 'visit_occurrence_id', 'person_id', 'Type', 'TEXT'], dtype='object')"
      ]
     },
     "execution_count": 4,
     "metadata": {},
     "output_type": "execute_result"
    }
   ],
   "source": [
    "notes.columns"
   ]
  },
  {
   "cell_type": "code",
   "execution_count": 78,
   "id": "e1ad1a27",
   "metadata": {},
   "outputs": [
    {
     "name": "stdout",
     "output_type": "stream",
     "text": [
      "the notes are unique by encounter ID\n"
     ]
    },
    {
     "data": {
      "text/plain": [
       "((557256, 5), 157433)"
      ]
     },
     "execution_count": 78,
     "metadata": {},
     "output_type": "execute_result"
    }
   ],
   "source": [
    "print(\"the notes are unique by encounter ID\")\n",
    "notes.shape, notes['PAT_ENC_CSN_ID'].nunique()"
   ]
  },
  {
   "cell_type": "code",
   "execution_count": 5,
   "id": "49f7ffad",
   "metadata": {
    "scrolled": true
   },
   "outputs": [],
   "source": [
    "notes_jsonl = []\n",
    "for idx, text in notes.iterrows():\n",
    "    note_dict  = {}\n",
    "    note_dict['text'] = text['TEXT']\n",
    "    note_dict['meta'] = {\"PAT_ENC_CSN_ID\":text['PAT_ENC_CSN_ID'], \n",
    "                       \"person_id\":text['person_id'],\n",
    "                      \"note_id\":idx}\n",
    "    note_dict['spans'] = []\n",
    "    notes_jsonl.append(note_dict)"
   ]
  },
  {
   "cell_type": "code",
   "execution_count": 9,
   "id": "a694680b",
   "metadata": {},
   "outputs": [],
   "source": [
    "with jsonlines.open(\"/home/vs428/project/Incarceration_Data/ed_notes_19_20_obi_deid_input.jsonl\", \"w\") as writer:\n",
    "    writer.write_all(notes_jsonl)\n",
    "    "
   ]
  },
  {
   "cell_type": "markdown",
   "id": "406c8d65",
   "metadata": {},
   "source": [
    "# Take a small subset to test"
   ]
  },
  {
   "cell_type": "code",
   "execution_count": 25,
   "id": "0b67bea8",
   "metadata": {},
   "outputs": [],
   "source": [
    "import random"
   ]
  },
  {
   "cell_type": "code",
   "execution_count": 52,
   "id": "d3693eb5",
   "metadata": {},
   "outputs": [
    {
     "data": {
      "text/plain": [
       "{'text': '9:37 PM Pt has ready bed, able to go to floor before being infused with abx and IVIG. Transport booked. Pt resting comfortably on stretcher NAD at this time. \\r\\n',\n",
       " 'meta': {'PAT_ENC_CSN_ID': 192405489, 'person_id': 40675941, 'note_id': 0},\n",
       " 'spans': []}"
      ]
     },
     "execution_count": 52,
     "metadata": {},
     "output_type": "execute_result"
    }
   ],
   "source": [
    "notes_jsonl[0]"
   ]
  },
  {
   "cell_type": "code",
   "execution_count": 26,
   "id": "9c4e9625",
   "metadata": {},
   "outputs": [],
   "source": [
    "notes_jsonl_sample = random.sample(notes_jsonl, 2000)"
   ]
  },
  {
   "cell_type": "code",
   "execution_count": 27,
   "id": "973a42c6",
   "metadata": {},
   "outputs": [],
   "source": [
    "import re"
   ]
  },
  {
   "cell_type": "code",
   "execution_count": 28,
   "id": "502d0394",
   "metadata": {},
   "outputs": [],
   "source": [
    "pat = re.compile(r\"\\r\\n\")"
   ]
  },
  {
   "cell_type": "code",
   "execution_count": 29,
   "id": "922c5d8d",
   "metadata": {},
   "outputs": [],
   "source": [
    "# pat.sub(\"\\n\", notes_jsonl_sample[0]['text'])\n",
    "\n"
   ]
  },
  {
   "cell_type": "code",
   "execution_count": 30,
   "id": "432afc78",
   "metadata": {},
   "outputs": [],
   "source": [
    "for note in notes_jsonl_sample:\n",
    "    note['text'] = pat.sub(\" \", note['text'].encode(\"ascii\", \"ignore\").decode())"
   ]
  },
  {
   "cell_type": "code",
   "execution_count": 31,
   "id": "028129bc",
   "metadata": {},
   "outputs": [],
   "source": [
    "# notes_jsonl_sample[2]"
   ]
  },
  {
   "cell_type": "code",
   "execution_count": 32,
   "id": "0241298d",
   "metadata": {},
   "outputs": [],
   "source": [
    "# notes_jsonl_sample[0]['text']"
   ]
  },
  {
   "cell_type": "code",
   "execution_count": 33,
   "id": "2cf31512",
   "metadata": {},
   "outputs": [],
   "source": [
    "with jsonlines.open(\"/home/vs428/project/Incarceration_Data/notes/ed_notes_19_20_obi_deid_input_subset.jsonl\", \"w\") as writer:\n",
    "#     /home/vs428/project/Incarceration_Data/notes/ed_notes_19_20_obi_deid_input_subset.jsonl\n",
    "    writer.write_all(notes_jsonl_sample)\n",
    "    "
   ]
  },
  {
   "cell_type": "code",
   "execution_count": 34,
   "id": "bd2d2673",
   "metadata": {},
   "outputs": [],
   "source": [
    "test_recs = random.choices(notes_jsonl_sample, k=10)"
   ]
  },
  {
   "cell_type": "code",
   "execution_count": 35,
   "id": "29479571",
   "metadata": {},
   "outputs": [],
   "source": [
    "file_out = [test_rec['text'] for test_rec in test_recs]"
   ]
  },
  {
   "cell_type": "code",
   "execution_count": 36,
   "id": "04e4edfd",
   "metadata": {},
   "outputs": [],
   "source": [
    "import numpy as np"
   ]
  },
  {
   "cell_type": "code",
   "execution_count": 37,
   "id": "34c9cc6e",
   "metadata": {},
   "outputs": [],
   "source": [
    "np.save(\"/home/vs428/project/Incarceration_Data/other_algo_test.npy\", file_out)"
   ]
  },
  {
   "cell_type": "code",
   "execution_count": 38,
   "id": "2f8517e6",
   "metadata": {},
   "outputs": [],
   "source": [
    "file_out = [test_rec['text'] for test_rec in notes_jsonl_sample]\n",
    "np.save(\"/home/vs428/project/Incarceration_Data/other_algo_2000subset.npy\", file_out)"
   ]
  },
  {
   "cell_type": "markdown",
   "id": "948f2182",
   "metadata": {
    "tags": []
   },
   "source": [
    "# ^ Or chunk the full data"
   ]
  },
  {
   "cell_type": "code",
   "execution_count": 11,
   "id": "bf42a3e9",
   "metadata": {},
   "outputs": [],
   "source": [
    "CHUNKSIZE = 2000"
   ]
  },
  {
   "cell_type": "code",
   "execution_count": 12,
   "id": "aca5e393",
   "metadata": {},
   "outputs": [],
   "source": [
    "chunks = [notes_jsonl[i:i+CHUNKSIZE] for i in range(0, len(notes_jsonl), CHUNKSIZE)]"
   ]
  },
  {
   "cell_type": "code",
   "execution_count": 14,
   "id": "ea3b0dfb",
   "metadata": {},
   "outputs": [
    {
     "data": {
      "text/plain": [
       "279"
      ]
     },
     "execution_count": 14,
     "metadata": {},
     "output_type": "execute_result"
    }
   ],
   "source": [
    "len(chunks)"
   ]
  },
  {
   "cell_type": "code",
   "execution_count": 21,
   "id": "52ae997e",
   "metadata": {},
   "outputs": [],
   "source": [
    "for i in range(len(chunks)):\n",
    "    with jsonlines.open(f\"/home/vs428/project/Incarceration_Data/ed_notes_19_20_obi_deid_input_{i}.jsonl\", \"w\") as writer:\n",
    "        writer.write_all(chunks[i])\n"
   ]
  },
  {
   "cell_type": "code",
   "execution_count": null,
   "id": "6b42fc93",
   "metadata": {},
   "outputs": [],
   "source": []
  },
  {
   "cell_type": "markdown",
   "id": "d89462ce",
   "metadata": {},
   "source": [
    "# Read in NPY files"
   ]
  },
  {
   "cell_type": "code",
   "execution_count": 39,
   "id": "e829043f",
   "metadata": {},
   "outputs": [],
   "source": [
    "import numpy as np"
   ]
  },
  {
   "cell_type": "code",
   "execution_count": 43,
   "id": "36c8d3c8",
   "metadata": {},
   "outputs": [],
   "source": [
    "# deided = np.load(\"/home/vs428/project/Incarceration_Data/other_algo_test_out.npy\", allow_pickle=True)\n",
    "# raw = np.load(\"/home/vs428/project/Incarceration_Data/other_algo_test.npy\", allow_pickle=True)\n",
    "\n",
    "deided = np.load(\"/home/vs428/project/Incarceration_Data/other_algo_2000subset_deid.npy\", allow_pickle=True)\n",
    "raw = np.load(\"/home/vs428/project/Incarceration_Data/other_algo_2000subset.npy\", allow_pickle=True)"
   ]
  },
  {
   "cell_type": "code",
   "execution_count": 51,
   "id": "a1567e4f",
   "metadata": {
    "scrolled": true,
    "tags": []
   },
   "outputs": [
    {
     "data": {
      "text/plain": [
       "{'text': \"--------------------------------------- Resident Note---------------------------------------------- HPI:  Pt is a 74 y.o. year old female with a history of AFib, multiple myeloma, on Eliquis presenting with chief complaint of mechanical fall. Symptoms began earlier this afternoon, patient was walking up the steps, tripped and fell hitting her forehead.  There is no loss of consciousness, no peri event amnesia, patient denies any nausea or vomiting currently.  Patient denies any shortness of breath or chest pain. Physical Exam: BP (!) 162/66  | Pulse 68  | Temp 98.3 F (36.8 C) (Oral)  | Resp 18  | SpO2 97%  On initial exam well-appearing 74-year-old female, 1 centimeter abrasion to right of midline on forehead.  Secondary survey otherwise unremarkable. Patient denies any midline cervical thoracic or lumbar tenderness. Physical exam otherwise stated below  MDM/Plan: Mechanical fall, patient on Eliquis.  Will evaluate with basic labs including CBC CMP.  PT INR.  CT head and neck without contrast.  Disposition is imaging and laboratory dependent.  ED Course:  No acute findings on CT head, or chest x-ray.  Patient will be discharged home with return precautions and follow-up instructions. CARDIAC EKG RESULT SCAN  Final Result    CT Head Cervical Spine wo IV Contrast  Final Result  IMPRESSION:  1. No CT evidence of acute intracranial abnormality. Chronic changes as described.  2. No evidence for acute cervical spine fracture or traumatic subluxation. Degenerative changes as described.    Reported And Signed By: Jonathan Mezrich, MD    CXR  Final Result  IMPRESSION:   No radiographic evidence of acute cardiopulmonary process or acute displaced osseous injury.    Reported And Signed By: Jonathan Mezrich, MD      --------------------------------------------------------------------------------------------------------  Alexander R. Nelson, MD EM-PGY2 Mobile Heartbeat (475)-298-8837    History Chief Complaint  Patient presents with   Fall   Wrist Pain   Knee Pain   Abrasion   Bleeding/Bruising     The history is provided by the patient.  Other  This is a new problem. The current episode started 3 to 5 hours ago. The problem occurs constantly. The problem has been resolved. Pertinent negatives include no chest pain, no abdominal pain, no headaches and no shortness of breath. Nothing aggravates the symptoms. Nothing relieves the symptoms.     Past Medical History:  Diagnosis Date   Abnormal cervical Papanicolaou smear 2010   mild dysplasia   Atrial fibrillation (HC Code)    Cancer (HC Code)    Headache(784.0)    migraines   Hypercholesteremia 4/12/2013   Migraine without aura    Multiple myeloma ISS stage I immunoglobulin G kappa  July 2010 4/12/2013    Past Surgical History:  Procedure Laterality Date   CERVIX LESION DESTRUCTION  1/2010   CESAREAN SECTION     TUBAL LIGATION      Family History  Problem Relation Age of Onset   Cancer Mother 53       cervical   Migraines Sister    Migraines Son    Migraines Son     Social History   Socioeconomic History   Marital status: Married    Spouse name: Not on file   Number of children: Not on file   Years of education: Not on file   Highest education level: Not on file  Tobacco Use   Smoking status: Former Smoker    Packs/day: 1.50    Years: 20.00    Pack years: 30.00    Types: Cigarettes    Last attempt to quit: 1/1/1978    Years since quitting: 41.6   Smokeless tobacco: Never Used  Substance and Sexual Activity   Alcohol use: No   Drug use: No   Sexual activity: Never    Partners: Male    Review of Systems  HENT: Negative for sore throat.   Eyes: Negative for visual disturbance.  Respiratory: Negative for shortness of breath.   Cardiovascular: Negative for chest pain.  Gastrointestinal: Negative for abdominal pain.  Genitourinary: Negative for dysuria.   Musculoskeletal: Negative for arthralgias.  Skin: Positive for wound. Negative for rash.  Neurological: Negative for headaches.  All other systems reviewed and are negative.     Physical Exam ED Triage Vitals [07/31/19 1502] BP: (!) 176/69 Pulse: 75 Pulse from  O2 sat: n/a Resp: 18 Temp: (!) 96.9 F (36.1 C) Temp src: Temporal SpO2: 96 %   BP (!) 162/66  | Pulse 68  | Temp 98.3 F (36.8 C) (Oral)  | Resp 18  | SpO2 97%    Physical Exam  Constitutional: She is oriented to person, place, and time. No distress.  HENT:  Head: Normocephalic. Head is with abrasion.    Eyes: Conjunctivae are normal.  Neck: No tracheal deviation present.  Cardiovascular: Regular rhythm and normal heart sounds. Exam reveals no gallop and no friction rub.  No murmur heard. Pulmonary/Chest: Effort normal and breath sounds normal. No stridor. No respiratory distress. She has no wheezes. She has no rales. She exhibits no tenderness.  Abdominal: Soft. Bowel sounds are normal. She exhibits no distension. There is no tenderness. There is no rebound and no guarding.  Musculoskeletal: She exhibits no edema or deformity.  Neurological: She is alert and oriented to person, place, and time.  Skin: Skin is warm and dry. No rash noted. No erythema. No pallor.  Psychiatric: She has a normal mood and affect. Her behavior is normal. Thought content normal.     Procedures Procedures  ED COURSE  Reviewed previous: previous chart Interpreted by ED Provider: pulse oximetry     Patient Reevaluation: Eileen Destino Campbell is a 74 y.o.female with hx afib on eliquis, mm here after mechanical fall and abrasion forehead. No other complaint or injury. Full rom neck.    Exam otherwise as above.  Vitals and available results and previous chart reviewed. Based on the information available, I do not feel this patient has undiscovered traumatic injury, syncope, or other emergent pathology.   -imaging reassuring. Patient-centered discussion led to the decision to rest at home with existing support system rather than pursue further management in the hospital at this time.  Based on the information available, I feel this is reasonable with the agreement to interface with medical attention for followup within 24-48 hours.   Attending Supervised: Resident I saw and examined the patient. I agree with the findings and plan of care as documented in the resident's note.  Please call for any clarifications at the number below. Ryan Coughlin MD  Mobile Heartbeat 475-224-7956     Patient progress: stable    Clinical Impressions as of Aug 01 1455  Fall, initial encounter  Abrasion of forehead, initial encounter       ED Disposition Discharge         Nelson, Alexander Roman, MD Resident 07/31/19 1652    Coughlin, Ryan Francis, MD 08/01/19 1455  \",\n",
       " 'meta': {'PAT_ENC_CSN_ID': 198896100,\n",
       "  'person_id': 58633405,\n",
       "  'note_id': 47611},\n",
       " 'spans': []}"
      ]
     },
     "execution_count": 51,
     "metadata": {},
     "output_type": "execute_result"
    }
   ],
   "source": [
    "notes_jsonl_sample[2]#['text']"
   ]
  },
  {
   "cell_type": "code",
   "execution_count": 57,
   "id": "607db58c",
   "metadata": {
    "scrolled": true,
    "tags": []
   },
   "outputs": [],
   "source": [
    "for deid, notes_jsonl in zip(deided, notes_jsonl_sample):\n",
    "    notes_jsonl['deid_text'] = deid"
   ]
  },
  {
   "cell_type": "code",
   "execution_count": 61,
   "id": "03d2d889",
   "metadata": {},
   "outputs": [],
   "source": [
    "for x in notes_jsonl_sample:\n",
    "    x['PAT_ENC_CSN_ID'] = x['meta']['PAT_ENC_CSN_ID']\n",
    "    x['person_id'] = x['meta']['person_id']\n",
    "    x['note_id'] = x['meta']['note_id']\n",
    "# pd.DataFrame.from_records(notes_jsonl_sample)"
   ]
  },
  {
   "cell_type": "code",
   "execution_count": 65,
   "id": "90009223",
   "metadata": {},
   "outputs": [
    {
     "data": {
      "text/plain": [
       "(557256, 5)"
      ]
     },
     "execution_count": 65,
     "metadata": {},
     "output_type": "execute_result"
    }
   ],
   "source": [
    "notes.shape"
   ]
  },
  {
   "cell_type": "code",
   "execution_count": 67,
   "id": "856def7f",
   "metadata": {},
   "outputs": [
    {
     "data": {
      "text/plain": [
       "2000"
      ]
     },
     "execution_count": 67,
     "metadata": {},
     "output_type": "execute_result"
    }
   ],
   "source": [
    "len(notes_jsonl_sample)\n",
    "\n",
    "# 12477"
   ]
  },
  {
   "cell_type": "code",
   "execution_count": 73,
   "id": "d1ba26a4",
   "metadata": {},
   "outputs": [
    {
     "data": {
      "text/plain": [
       "(2000, 7)"
      ]
     },
     "execution_count": 73,
     "metadata": {},
     "output_type": "execute_result"
    }
   ],
   "source": [
    "pd.DataFrame.from_records(notes_jsonl_sample).shape"
   ]
  },
  {
   "cell_type": "code",
   "execution_count": 77,
   "id": "b06edfa6",
   "metadata": {},
   "outputs": [
    {
     "data": {
      "text/plain": [
       "(557256, 157433)"
      ]
     },
     "execution_count": 77,
     "metadata": {},
     "output_type": "execute_result"
    }
   ],
   "source": [
    "len(notes), notes['PAT_ENC_CSN_ID'].nunique()"
   ]
  },
  {
   "cell_type": "code",
   "execution_count": 83,
   "id": "c1440f5b",
   "metadata": {},
   "outputs": [],
   "source": [
    "out = pd.DataFrame.from_records(notes_jsonl_sample)#; out.reset_index()"
   ]
  },
  {
   "cell_type": "code",
   "execution_count": 85,
   "id": "276b9789",
   "metadata": {},
   "outputs": [
    {
     "data": {
      "text/html": [
       "<div>\n",
       "<style scoped>\n",
       "    .dataframe tbody tr th:only-of-type {\n",
       "        vertical-align: middle;\n",
       "    }\n",
       "\n",
       "    .dataframe tbody tr th {\n",
       "        vertical-align: top;\n",
       "    }\n",
       "\n",
       "    .dataframe thead th {\n",
       "        text-align: right;\n",
       "    }\n",
       "</style>\n",
       "<table border=\"1\" class=\"dataframe\">\n",
       "  <thead>\n",
       "    <tr style=\"text-align: right;\">\n",
       "      <th></th>\n",
       "      <th>PAT_ENC_CSN_ID</th>\n",
       "      <th>visit_occurrence_id</th>\n",
       "      <th>person_id</th>\n",
       "      <th>Type</th>\n",
       "      <th>TEXT</th>\n",
       "    </tr>\n",
       "  </thead>\n",
       "  <tbody>\n",
       "    <tr>\n",
       "      <th>0</th>\n",
       "      <td>192405489</td>\n",
       "      <td>146031160</td>\n",
       "      <td>40675941</td>\n",
       "      <td>ED Notes</td>\n",
       "      <td>9:37 PM Pt has ready bed, able to go to floor ...</td>\n",
       "    </tr>\n",
       "    <tr>\n",
       "      <th>1</th>\n",
       "      <td>185618958</td>\n",
       "      <td>121245233</td>\n",
       "      <td>65365841</td>\n",
       "      <td>ED Provider Notes</td>\n",
       "      <td>\\r\\n\\r\\n\\r\\nHistory\\r\\nChief Complaint \\r\\nPat...</td>\n",
       "    </tr>\n",
       "    <tr>\n",
       "      <th>2</th>\n",
       "      <td>193465848</td>\n",
       "      <td>147453891</td>\n",
       "      <td>59780681</td>\n",
       "      <td>ED Provider Notes</td>\n",
       "      <td>\\r\\nHistory\\r\\nChief Complaint \\r\\nPatient pre...</td>\n",
       "    </tr>\n",
       "    <tr>\n",
       "      <th>3</th>\n",
       "      <td>192242419</td>\n",
       "      <td>145825331</td>\n",
       "      <td>39382730</td>\n",
       "      <td>ED Notes</td>\n",
       "      <td>7:10 AM \\r\\nAccepted team report with RN Hamil...</td>\n",
       "    </tr>\n",
       "    <tr>\n",
       "      <th>4</th>\n",
       "      <td>203621361</td>\n",
       "      <td>175809910</td>\n",
       "      <td>13249654</td>\n",
       "      <td>ED Notes</td>\n",
       "      <td>Floor Handoff \\r\\n\\r\\nAdmission Dx: SOB\\r\\n\\r\\...</td>\n",
       "    </tr>\n",
       "    <tr>\n",
       "      <th>...</th>\n",
       "      <td>...</td>\n",
       "      <td>...</td>\n",
       "      <td>...</td>\n",
       "      <td>...</td>\n",
       "      <td>...</td>\n",
       "    </tr>\n",
       "    <tr>\n",
       "      <th>557251</th>\n",
       "      <td>207843445</td>\n",
       "      <td>180785075</td>\n",
       "      <td>11011604</td>\n",
       "      <td>ED Notes</td>\n",
       "      <td>7:12 PM \\r\\nReport Received from Trish RN\\r\\nP...</td>\n",
       "    </tr>\n",
       "    <tr>\n",
       "      <th>557252</th>\n",
       "      <td>195204993</td>\n",
       "      <td>150345206</td>\n",
       "      <td>63163397</td>\n",
       "      <td>ED Notes</td>\n",
       "      <td>2:40 PM \\r\\nChief Complaint \\r\\nPatient presen...</td>\n",
       "    </tr>\n",
       "    <tr>\n",
       "      <th>557253</th>\n",
       "      <td>200298402</td>\n",
       "      <td>160096898</td>\n",
       "      <td>53072874</td>\n",
       "      <td>ED Psychiatric Eval Note</td>\n",
       "      <td>Yale New Haven Hospital-Ysc\\r\\nYALE NEW HAVEN ...</td>\n",
       "    </tr>\n",
       "    <tr>\n",
       "      <th>557254</th>\n",
       "      <td>205946884</td>\n",
       "      <td>178903143</td>\n",
       "      <td>13972664</td>\n",
       "      <td>ED Provider Notes</td>\n",
       "      <td>\\r\\nHistory\\r\\nChief Complaint \\r\\nPatient pre...</td>\n",
       "    </tr>\n",
       "    <tr>\n",
       "      <th>557255</th>\n",
       "      <td>199300050</td>\n",
       "      <td>158697959</td>\n",
       "      <td>13469761</td>\n",
       "      <td>ED Psychiatric Eval Note</td>\n",
       "      <td>Yale New Haven Hospital-Ysc\\r\\nYALE NEW HAVEN ...</td>\n",
       "    </tr>\n",
       "  </tbody>\n",
       "</table>\n",
       "<p>557256 rows × 5 columns</p>\n",
       "</div>"
      ],
      "text/plain": [
       "        PAT_ENC_CSN_ID  visit_occurrence_id  person_id  \\\n",
       "0            192405489            146031160   40675941   \n",
       "1            185618958            121245233   65365841   \n",
       "2            193465848            147453891   59780681   \n",
       "3            192242419            145825331   39382730   \n",
       "4            203621361            175809910   13249654   \n",
       "...                ...                  ...        ...   \n",
       "557251       207843445            180785075   11011604   \n",
       "557252       195204993            150345206   63163397   \n",
       "557253       200298402            160096898   53072874   \n",
       "557254       205946884            178903143   13972664   \n",
       "557255       199300050            158697959   13469761   \n",
       "\n",
       "                            Type  \\\n",
       "0                       ED Notes   \n",
       "1              ED Provider Notes   \n",
       "2              ED Provider Notes   \n",
       "3                       ED Notes   \n",
       "4                       ED Notes   \n",
       "...                          ...   \n",
       "557251                  ED Notes   \n",
       "557252                  ED Notes   \n",
       "557253  ED Psychiatric Eval Note   \n",
       "557254         ED Provider Notes   \n",
       "557255  ED Psychiatric Eval Note   \n",
       "\n",
       "                                                     TEXT  \n",
       "0       9:37 PM Pt has ready bed, able to go to floor ...  \n",
       "1       \\r\\n\\r\\n\\r\\nHistory\\r\\nChief Complaint \\r\\nPat...  \n",
       "2       \\r\\nHistory\\r\\nChief Complaint \\r\\nPatient pre...  \n",
       "3       7:10 AM \\r\\nAccepted team report with RN Hamil...  \n",
       "4       Floor Handoff \\r\\n\\r\\nAdmission Dx: SOB\\r\\n\\r\\...  \n",
       "...                                                   ...  \n",
       "557251  7:12 PM \\r\\nReport Received from Trish RN\\r\\nP...  \n",
       "557252  2:40 PM \\r\\nChief Complaint \\r\\nPatient presen...  \n",
       "557253  Yale New Haven Hospital-Ysc\\r\\nYALE NEW HAVEN ...  \n",
       "557254  \\r\\nHistory\\r\\nChief Complaint \\r\\nPatient pre...  \n",
       "557255  Yale New Haven Hospital-Ysc\\r\\nYALE NEW HAVEN ...  \n",
       "\n",
       "[557256 rows x 5 columns]"
      ]
     },
     "execution_count": 85,
     "metadata": {},
     "output_type": "execute_result"
    }
   ],
   "source": [
    "notes = notes.reset_index()"
   ]
  },
  {
   "cell_type": "code",
   "execution_count": 87,
   "id": "a9cb5d9f",
   "metadata": {},
   "outputs": [],
   "source": [
    "notes = notes.reset_index()"
   ]
  },
  {
   "cell_type": "code",
   "execution_count": 95,
   "id": "2083b8d5",
   "metadata": {},
   "outputs": [],
   "source": [
    "out.merge(notes, left_on=\"note_id\", right_on=\"index\", how=\"inner\").drop(['PAT_ENC_CSN_ID_y', \n",
    "                                                                         'person_id_y', 'meta', 'spans',\n",
    "                                                                         'index', 'TEXT'], axis=1).rename({\"PAT_ENC_CSN_ID_x\": \"PAT_ENC_CSN_ID\",\n",
    "                                                                                                          \"person_id_x\":\"person_id\"}, axis=1).to_csv(\"/home/vs428/project/Incarceration_Data/notes_2000subset_deid.csv\", index=False)\n"
   ]
  },
  {
   "cell_type": "code",
   "execution_count": 18,
   "id": "eeb9a683",
   "metadata": {},
   "outputs": [],
   "source": [
    "from typing import List, Any, Callable, Tuple, Union\n",
    "import re \n",
    "import difflib \n",
    "\n",
    "Token = str\n",
    "TokenList = List[Token]"
   ]
  },
  {
   "cell_type": "code",
   "execution_count": 19,
   "id": "24dcef75",
   "metadata": {},
   "outputs": [],
   "source": [
    "whitespace = re.compile('\\s+')\n",
    "end_sentence = re.compile('[.!?]\\s+')\n",
    "\n",
    "def tokenize(s:str) -> TokenList:\n",
    "    '''Split a string into tokens'''\n",
    "    return whitespace.split(s)\n",
    "\n",
    "def untokenize(ts:TokenList) -> str:\n",
    "    '''Join a list of tokens into a string'''\n",
    "    return ' '.join(ts)\n",
    "\n",
    "def sentencize(s:str) -> TokenList:\n",
    "    '''Split a string into a list of sentences'''\n",
    "    return end_sentence.split(s)\n",
    "\n",
    "def unsentencise(ts:TokenList) -> str:\n",
    "    '''Join a list of sentences into a string'''\n",
    "    return '. '.join(ts)\n",
    "\n",
    "def html_unsentencise(ts:TokenList) -> str:\n",
    "    '''Joing a list of sentences into HTML for display'''\n",
    "    return ''.join(f'<p>{t}</p>' for t in ts)"
   ]
  },
  {
   "cell_type": "code",
   "execution_count": 20,
   "id": "1cdc1f8a",
   "metadata": {},
   "outputs": [],
   "source": [
    "def mark_text(text:str) -> str:\n",
    "    return f'<span style=\"color: red;\">{text}</span>'\n",
    "    \n",
    "def mark_span(text:TokenList) -> TokenList:\n",
    "    return [mark_text(token) for token in text]"
   ]
  },
  {
   "cell_type": "code",
   "execution_count": 21,
   "id": "80a1c5c3",
   "metadata": {},
   "outputs": [],
   "source": [
    "def mark_span(text:TokenList) -> TokenList:\n",
    "    if len(text) > 0:\n",
    "        text[0] = '<span style=\"background: #69E2FB;\">' + text[0]\n",
    "        text[-1] += '</span>'\n",
    "    return text"
   ]
  },
  {
   "cell_type": "code",
   "execution_count": 22,
   "id": "ff498db0",
   "metadata": {},
   "outputs": [],
   "source": [
    "def markup_diff(a:TokenList, b:TokenList,\n",
    "                mark:Callable[TokenList, TokenList]=mark_span,\n",
    "                default_mark: Callable[TokenList, TokenList] = lambda x: x,\n",
    "                isjunk:Union[None, Callable[[Token], bool]]=None) -> Tuple[TokenList, TokenList]:\n",
    "    \"\"\"Returns a and b with any differences processed by mark\n",
    "\n",
    "    Junk is ignored by the differ\n",
    "    \"\"\"\n",
    "    seqmatcher = difflib.SequenceMatcher(isjunk=isjunk, a=a, b=b, autojunk=False)\n",
    "    out_a, out_b = [], []\n",
    "    for tag, a0, a1, b0, b1 in seqmatcher.get_opcodes():\n",
    "        markup = default_mark if tag == 'equal' else mark\n",
    "        out_a += markup(a[a0:a1])\n",
    "        out_b += markup(b[b0:b1])\n",
    "    assert len(out_a) == len(a)\n",
    "    assert len(out_b) == len(b)\n",
    "    return out_a, out_b"
   ]
  },
  {
   "cell_type": "code",
   "execution_count": 23,
   "id": "7f0f4776",
   "metadata": {},
   "outputs": [],
   "source": [
    "def align_seqs(a: TokenList, b: TokenList, fill:Token='') -> Tuple[TokenList, TokenList]:\n",
    "    out_a, out_b = [], []\n",
    "    seqmatcher = difflib.SequenceMatcher(a=a, b=b, autojunk=False)\n",
    "    for tag, a0, a1, b0, b1 in seqmatcher.get_opcodes():\n",
    "        delta = (a1 - a0) - (b1 - b0)\n",
    "        out_a += a[a0:a1] + [fill] * max(-delta, 0)\n",
    "        out_b += b[b0:b1] + [fill] * max(delta, 0)\n",
    "    assert len(out_a) == len(out_b)\n",
    "    return out_a, out_b"
   ]
  },
  {
   "cell_type": "code",
   "execution_count": 24,
   "id": "c03105dc",
   "metadata": {},
   "outputs": [],
   "source": [
    "from itertools import zip_longest\n",
    "def html_sidebyside(a, b):\n",
    "    # Set the panel display\n",
    "    out = '<div style=\"display: grid;grid-template-columns: 1fr 1fr;grid-gap: 20px;\">'\n",
    "    # There's some CSS in Jupyter notebooks that makes the first pair unalign. This is a workaround\n",
    "    out += '<p></p><p></p>'\n",
    "    for left, right in zip_longest(a, b, fillvalue=''):\n",
    "        out += f'<p>{left}</p>'\n",
    "        out += f'<p>{right}</p>'\n",
    "        out += '</div>'\n",
    "    return out"
   ]
  },
  {
   "cell_type": "code",
   "execution_count": 25,
   "id": "7215ccd2",
   "metadata": {},
   "outputs": [],
   "source": [
    "import html\n",
    "def html_diffs(a, b):\n",
    "    a = html.escape(a)\n",
    "    b = html.escape(b)\n",
    "\n",
    "    out_a, out_b = [], []\n",
    "    for sent_a, sent_b in zip(*align_seqs(sentencize(a), sentencize(b))):\n",
    "        mark_a, mark_b = markup_diff(tokenize(sent_a), tokenize(sent_b))\n",
    "        out_a.append(untokenize(mark_a))\n",
    "        out_b.append(untokenize(mark_b))\n",
    "\n",
    "    return html_sidebyside(out_a, out_b)"
   ]
  },
  {
   "cell_type": "code",
   "execution_count": 26,
   "id": "bba4c80c",
   "metadata": {},
   "outputs": [],
   "source": [
    "from IPython.display import HTML, display\n",
    "def show_diffs(a, b):\n",
    "    display(HTML(html_diffs(a,b)))\n",
    "    \n",
    "def save_diffs(a, b, fname):\n",
    "    html = HTML(html_diffs(a,b)).data\n",
    "    with open(fname, 'w') as f:\n",
    "        f.write(html)"
   ]
  },
  {
   "cell_type": "code",
   "execution_count": 27,
   "id": "df897179",
   "metadata": {},
   "outputs": [],
   "source": [
    "# print(raw[0]), print(test[0])"
   ]
  },
  {
   "cell_type": "code",
   "execution_count": 28,
   "id": "978cd876",
   "metadata": {},
   "outputs": [],
   "source": [
    "# show_diffs(raw[0], test[0])\n",
    "\n",
    "for idx, (x, y) in enumerate(zip(raw, deided)):\n",
    "    save_diffs(x, y, fname=f\"/home/vs428/project/Incarceration_Data/other_algo_test_diff_{idx}.html\")"
   ]
  },
  {
   "cell_type": "code",
   "execution_count": null,
   "id": "84fbecaa",
   "metadata": {},
   "outputs": [],
   "source": []
  },
  {
   "cell_type": "markdown",
   "id": "d0dabf8d-a46c-4251-b9c1-dc09623954d8",
   "metadata": {},
   "source": [
    "# Convert to Binary Classification"
   ]
  },
  {
   "cell_type": "code",
   "execution_count": 2,
   "id": "fed945dc-7ba3-42ea-a771-639b585317b8",
   "metadata": {},
   "outputs": [],
   "source": [
    "training_data = []\n",
    "\n",
    "# with jsonlines.open(\"/home/vs428/project/Incarceration_Data/incarceration_status_initial.jsonl\") as reader:\n",
    "with jsonlines.open(\"/home/vs428/project/Incarceration_Data/incarceration_status_v2_v2.jsonl\") as reader:\n",
    "    for line in reader:\n",
    "        training_data.append(line)"
   ]
  },
  {
   "cell_type": "code",
   "execution_count": 3,
   "id": "7cab3433-6d02-4801-abef-24ccdf73c8c3",
   "metadata": {},
   "outputs": [
    {
     "data": {
      "text/plain": [
       "dict_keys(['text', '_input_hash', '_task_hash', 'options', '_view_id', 'config', 'accept', 'answer', '_timestamp', '_annotator_id', '_session_id'])"
      ]
     },
     "execution_count": 3,
     "metadata": {},
     "output_type": "execute_result"
    }
   ],
   "source": [
    "training_data[0].keys()"
   ]
  },
  {
   "cell_type": "code",
   "execution_count": 4,
   "id": "e6c43ac9-45be-4981-b135-0a127ef5203e",
   "metadata": {},
   "outputs": [],
   "source": [
    "label = \"Prior_History_Incarceration\"\n",
    "bin_training_data = []\n",
    "\n",
    "for eg in training_data:\n",
    "    example = eg.copy()\n",
    "    accepted = example['accept']\n",
    "    # dictionary of all labels – if label is in accepted list, value is\n",
    "    # set to True, otherwise it's set to False\n",
    "    if label in accepted:\n",
    "        example['label'] = label\n",
    "        example['answer'] = \"accept\"\n",
    "    else:\n",
    "        example['label'] = label\n",
    "        example['answer'] = \"reject\"\n",
    "        \n",
    "    example['_view_id'] = \"classification\"\n",
    "    example['view_id'] = \"classification\"    \n",
    "    \n",
    "    example.pop('accept', None)\n",
    "    example.pop('options', None)\n",
    "    example.pop('config', None)\n",
    "    \n",
    "    bin_training_data.append(example)\n",
    "        \n",
    "    # cats = {label: label in accepted for label in labels}\n",
    "    # training_data.append((text, {'cats': cats}))"
   ]
  },
  {
   "cell_type": "code",
   "execution_count": 98,
   "id": "e931925c-8633-4545-b054-eecad4d5d74e",
   "metadata": {},
   "outputs": [],
   "source": [
    "# training_data[1], bin_training_data[2]"
   ]
  },
  {
   "cell_type": "code",
   "execution_count": 5,
   "id": "2eec81aa-e25d-4134-9c22-541f153cae66",
   "metadata": {},
   "outputs": [],
   "source": [
    "training_data = []\n",
    "\n",
    "with jsonlines.open(\"/home/vs428/project/Incarceration_Data/incarceration_status_v2_v2_binary.jsonl\", \"w\") as writer:\n",
    "    writer.write_all(bin_training_data)"
   ]
  },
  {
   "cell_type": "markdown",
   "id": "4bb05d60-27cb-4781-a522-7aedbb565859",
   "metadata": {},
   "source": [
    "# Done"
   ]
  },
  {
   "cell_type": "markdown",
   "id": "9c24becf-1fc5-4fc7-9b95-0c1f3f8d2025",
   "metadata": {},
   "source": [
    "# Check Doc Length"
   ]
  },
  {
   "cell_type": "code",
   "execution_count": 34,
   "id": "813b964e",
   "metadata": {},
   "outputs": [],
   "source": [
    "import spacy\n",
    "spacy.require_gpu()\n",
    "import jsonlines\n",
    "from collections import Counter\n",
    "import pandas as pd\n",
    "import numpy as np"
   ]
  },
  {
   "cell_type": "code",
   "execution_count": 2,
   "id": "a9bcbc3f",
   "metadata": {},
   "outputs": [],
   "source": [
    "nlp = spacy.load(\"./incarceration_model_binary_trf_v2/model-best/\", exclude=\"tagger,parser,attribute_ruler,lemmatizer,ner\")\n",
    "                                                                             \n",
    "# nlp = spacy.load('/home/vs428/Documents/Moore/followup_model_v3/model-best', exclude=\"tagger,parser,attribute_ruler,lemmatizer,ner\")\n",
    "#nlp_orig = spacy.load(\"en_core_web_trf\")\n",
    "#nlp.add_pipe(\"parser\", source=nlp_orig, after=\"transformer\")\n",
    "#nlp.add_pipe(\"tagger\", source=nlp_orig, after=\"parser\")\n",
    "#nlp.add_pipe(\"attribute_ruler\", source=nlp_orig, after=\"tagger\")\n",
    "#nlp.add_pipe(\"lemmatizer\", source=nlp_orig, after=\"attribute_ruler\")\n",
    "#nlp.add_pipe(\"ner\", source=nlp_orig, after=\"lemmatizer\")"
   ]
  },
  {
   "cell_type": "code",
   "execution_count": 18,
   "id": "4038287a",
   "metadata": {},
   "outputs": [],
   "source": [
    "anns = []\n",
    "with jsonlines.open(\"/home/vs428/project/Incarceration_Data/incarceration_status_v2_v2_binary.jsonl\") as reader:\n",
    "    for line in reader:\n",
    "        anns.append(line)"
   ]
  },
  {
   "cell_type": "code",
   "execution_count": 19,
   "id": "97ec1336",
   "metadata": {},
   "outputs": [],
   "source": [
    "texts = [ann['text'] for ann in anns]"
   ]
  },
  {
   "cell_type": "code",
   "execution_count": 20,
   "id": "d09314a7-4a79-4a73-b399-ef82e77338ae",
   "metadata": {},
   "outputs": [
    {
     "data": {
      "text/plain": [
       "Counter({'accept': 484, 'reject': 516})"
      ]
     },
     "execution_count": 20,
     "metadata": {},
     "output_type": "execute_result"
    }
   ],
   "source": [
    "Counter([ann['answer'] for ann in anns])"
   ]
  },
  {
   "cell_type": "code",
   "execution_count": 40,
   "id": "dd9c8ec4-a59b-42a3-8359-b056759d47ea",
   "metadata": {
    "scrolled": true,
    "tags": []
   },
   "outputs": [
    {
     "name": "stdout",
     "output_type": "stream",
     "text": [
      "0\n",
      "50\n",
      "100\n",
      "150\n",
      "200\n",
      "250\n",
      "300\n",
      "350\n",
      "400\n",
      "450\n",
      "500\n",
      "550\n",
      "600\n",
      "650\n",
      "700\n",
      "750\n",
      "800\n",
      "850\n",
      "900\n",
      "950\n"
     ]
    }
   ],
   "source": [
    "# taken from https://stackoverflow.com/a/44764557/1726404\n",
    "'''\n",
    "This works by using nlp.pipe and putting our records into tuples. We process it as tuples and get the context\n",
    "In our work, the context is just the study id. \n",
    "We get the entity text, label, start and stop characters for each entity\n",
    "we convert that to a json string, we then put the [context,json] together into a list\n",
    "append this list to nlp_out\n",
    "then turn nlp out into a df with 1 col being study id and the other being the nlp out\n",
    "Finally we merge the df with our main data df. Now we have a column with the text\n",
    "'''\n",
    "import json\n",
    "nlp_out = []\n",
    "docs = []\n",
    "count = 0\n",
    "for doc in nlp.pipe(texts, batch_size=100, n_process=1):\n",
    "    docs.append(doc)\n",
    "    out_ = doc.cats\n",
    "    nlp_out.append([count, json.dumps(out_, indent = 2)])\n",
    "    if count % 50 == 0:\n",
    "        print(count)\n",
    "    count +=1\n",
    "nlp_df = pd.DataFrame(nlp_out, columns=['study_id', 'NLP_OUT'])"
   ]
  },
  {
   "cell_type": "code",
   "execution_count": 48,
   "id": "3c98fe9d-e75f-482e-b575-d9c6ecd2d2cd",
   "metadata": {},
   "outputs": [
    {
     "data": {
      "text/plain": [
       "Counter({False: 682, True: 318})"
      ]
     },
     "execution_count": 48,
     "metadata": {},
     "output_type": "execute_result"
    }
   ],
   "source": [
    "Counter([len(doc) < 512 for doc in docs])"
   ]
  },
  {
   "cell_type": "code",
   "execution_count": null,
   "id": "6b5910c5-12b1-4488-ae80-d188acd321a9",
   "metadata": {},
   "outputs": [],
   "source": []
  }
 ],
 "metadata": {
  "kernelspec": {
   "display_name": "Python 3",
   "language": "python",
   "name": "python3"
  },
  "language_info": {
   "codemirror_mode": {
    "name": "ipython",
    "version": 3
   },
   "file_extension": ".py",
   "mimetype": "text/x-python",
   "name": "python",
   "nbconvert_exporter": "python",
   "pygments_lexer": "ipython3",
   "version": "3.9.13"
  }
 },
 "nbformat": 4,
 "nbformat_minor": 5
}
