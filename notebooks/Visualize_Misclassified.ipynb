{
 "cells": [
  {
   "cell_type": "code",
   "execution_count": 2,
   "id": "07c332fc-f190-475f-bac5-c3a375c84d93",
   "metadata": {},
   "outputs": [
    {
     "data": {
      "text/plain": [
       "True"
      ]
     },
     "execution_count": 2,
     "metadata": {},
     "output_type": "execute_result"
    }
   ],
   "source": [
    "import spacy\n",
    "import pandas as pd\n",
    "import jsonlines\n",
    "import numpy as np\n",
    "spacy.require_gpu()"
   ]
  },
  {
   "cell_type": "code",
   "execution_count": 3,
   "id": "3e57825a-cf38-4439-b859-136651dc87fc",
   "metadata": {},
   "outputs": [],
   "source": [
    "nlp = spacy.load(\"./incarceration_model_binary_trf_v2/model-best/\", exclude=\"tagger,parser,attribute_ruler,lemmatizer,ner\")\n",
    "                                                                             \n",
    "# nlp = spacy.load('/home/vs428/Documents/Moore/followup_model_v3/model-best', exclude=\"tagger,parser,attribute_ruler,lemmatizer,ner\")\n",
    "#nlp_orig = spacy.load(\"en_core_web_trf\")\n",
    "#nlp.add_pipe(\"parser\", source=nlp_orig, after=\"transformer\")\n",
    "#nlp.add_pipe(\"tagger\", source=nlp_orig, after=\"parser\")\n",
    "#nlp.add_pipe(\"attribute_ruler\", source=nlp_orig, after=\"tagger\")\n",
    "#nlp.add_pipe(\"lemmatizer\", source=nlp_orig, after=\"attribute_ruler\")\n",
    "#nlp.add_pipe(\"ner\", source=nlp_orig, after=\"lemmatizer\")"
   ]
  },
  {
   "cell_type": "code",
   "execution_count": 4,
   "id": "2ea1ed73-e5e3-407b-a32f-bbc007b63d29",
   "metadata": {},
   "outputs": [],
   "source": [
    "anns = []\n",
    "with jsonlines.open(\"/home/vs428/project/Incarceration_Data/incarceration_status_v2_v2_binary.jsonl\") as reader:\n",
    "    for line in reader:\n",
    "        anns.append(line)"
   ]
  },
  {
   "cell_type": "code",
   "execution_count": 5,
   "id": "6af7d49e-5a84-48d2-9b35-7d95b1401ab7",
   "metadata": {},
   "outputs": [],
   "source": [
    "texts = [ann['text'] for ann in anns]"
   ]
  },
  {
   "cell_type": "code",
   "execution_count": 6,
   "id": "276c3e04-d8d7-439c-8f9e-e407e5238fb4",
   "metadata": {},
   "outputs": [],
   "source": [
    "from spacy.tokens import DocBin\n",
    "doc_bin = DocBin().from_disk(\"/home/vs428/Documents/Incarceration/incarceration_status_binary_v2/dev.spacy\")\n"
   ]
  },
  {
   "cell_type": "code",
   "execution_count": 7,
   "id": "d1d384bc-14ba-428d-8ce7-54999b5d06b4",
   "metadata": {},
   "outputs": [],
   "source": [
    "dev_docs = list(doc_bin.get_docs(nlp.vocab))"
   ]
  },
  {
   "cell_type": "code",
   "execution_count": 8,
   "id": "7d5539a5-7cda-41a8-b150-d0ac325ef86e",
   "metadata": {},
   "outputs": [],
   "source": [
    "dev_doc_texts = [doc.text for doc in dev_docs]"
   ]
  },
  {
   "cell_type": "code",
   "execution_count": null,
   "id": "faf2f86a-dede-4dc8-8446-657c31b55a90",
   "metadata": {},
   "outputs": [],
   "source": []
  },
  {
   "cell_type": "code",
   "execution_count": 9,
   "id": "12c47b37-39fd-4dc5-84e7-afda5d9ffb79",
   "metadata": {},
   "outputs": [
    {
     "name": "stdout",
     "output_type": "stream",
     "text": [
      "0\n",
      "50\n"
     ]
    },
    {
     "name": "stderr",
     "output_type": "stream",
     "text": [
      "Token indices sequence length is longer than the specified maximum sequence length for this model (878 > 512). Running this sequence through the model will result in indexing errors\n"
     ]
    },
    {
     "name": "stdout",
     "output_type": "stream",
     "text": [
      "100\n"
     ]
    }
   ],
   "source": [
    "# taken from https://stackoverflow.com/a/44764557/1726404\n",
    "'''\n",
    "This works by using nlp.pipe and putting our records into tuples. We process it as tuples and get the context\n",
    "In our work, the context is just the study id. \n",
    "We get the entity text, label, start and stop characters for each entity\n",
    "we convert that to a json string, we then put the [context,json] together into a list\n",
    "append this list to nlp_out\n",
    "then turn nlp out into a df with 1 col being study id and the other being the nlp out\n",
    "Finally we merge the df with our main data df. Now we have a column with the text\n",
    "'''\n",
    "import json\n",
    "nlp_out = []\n",
    "docs = []\n",
    "count = 0\n",
    "for doc in nlp.pipe(dev_doc_texts, batch_size=100, n_process=1):\n",
    "    docs.append(doc)\n",
    "    out_ = doc.cats\n",
    "    nlp_out.append([count, json.dumps(out_, indent = 2)])\n",
    "    if count % 50 == 0:\n",
    "        print(count)\n",
    "    count +=1\n",
    "nlp_df = pd.DataFrame(nlp_out, columns=['study_id', 'NLP_OUT'])"
   ]
  },
  {
   "cell_type": "code",
   "execution_count": null,
   "id": "8ad3c49b-cd30-43c7-93e8-dbfc14bac2f3",
   "metadata": {},
   "outputs": [],
   "source": []
  },
  {
   "cell_type": "code",
   "execution_count": 10,
   "id": "e0b9481c-5dd7-4655-88ca-f3ad09763144",
   "metadata": {},
   "outputs": [],
   "source": [
    "# len(dev_docs)"
   ]
  },
  {
   "cell_type": "code",
   "execution_count": 11,
   "id": "7b678104-68eb-4e24-ab9f-ae33b8a06a7b",
   "metadata": {},
   "outputs": [],
   "source": [
    "nlp_df['y_true'] = [dev_doc.cats for dev_doc in dev_docs]"
   ]
  },
  {
   "cell_type": "code",
   "execution_count": 12,
   "id": "fc017198-b66b-49e3-99d7-8882e56629f1",
   "metadata": {},
   "outputs": [],
   "source": [
    "nlp_df['y_true'] = nlp_df['y_true'].astype(str)"
   ]
  },
  {
   "cell_type": "code",
   "execution_count": 13,
   "id": "9e619aa1-8994-472b-a864-2f7463c19623",
   "metadata": {},
   "outputs": [],
   "source": [
    "import ast\n",
    "def convert_dict_str_to_dict(x, col_name):\n",
    "    tmp = ast.literal_eval(x[col_name])\n",
    "    return tmp"
   ]
  },
  {
   "cell_type": "code",
   "execution_count": 14,
   "id": "fff2511b-18a7-435f-85db-328f404a4868",
   "metadata": {},
   "outputs": [],
   "source": [
    "score_df = nlp_df.apply(convert_dict_str_to_dict, axis=1, col_name=\"NLP_OUT\", result_type=\"expand\")\n"
   ]
  },
  {
   "cell_type": "code",
   "execution_count": 15,
   "id": "1a3c97c6-923b-4250-8ca5-693cee1f050b",
   "metadata": {},
   "outputs": [],
   "source": [
    "score_df = score_df.rename({\"Prior_History_Incarceration\":\"y_pred_score\"}, axis=1)"
   ]
  },
  {
   "cell_type": "code",
   "execution_count": 16,
   "id": "f7564d1a-6cbe-4157-8a2a-6069c85c70dc",
   "metadata": {},
   "outputs": [],
   "source": [
    "score_df2 = nlp_df.apply(convert_dict_str_to_dict, axis=1, col_name=\"y_true\", result_type=\"expand\")\n",
    "score_df2 = score_df2.rename({\"Prior_History_Incarceration\":\"y_true_score\"}, axis=1)"
   ]
  },
  {
   "cell_type": "code",
   "execution_count": 17,
   "id": "1ca40022-20b0-4c51-bfd2-8d48c2a2e021",
   "metadata": {},
   "outputs": [],
   "source": [
    "conf_mat_df = pd.concat([score_df, score_df2], axis=1)"
   ]
  },
  {
   "cell_type": "code",
   "execution_count": 18,
   "id": "e4c7a71c-63ba-431b-ba8e-6cdaa8d76383",
   "metadata": {},
   "outputs": [],
   "source": [
    "conf_mat_df['y_pred'] = np.where(conf_mat_df['y_pred_score'] > 0.5, True, False)"
   ]
  },
  {
   "cell_type": "code",
   "execution_count": 19,
   "id": "bf232b27-173d-4da1-86c2-ac7c639cdc7d",
   "metadata": {},
   "outputs": [],
   "source": [
    "conf_mat_df['y_true'] = np.where(conf_mat_df['y_true_score'] > 0.5, True, False)"
   ]
  },
  {
   "cell_type": "code",
   "execution_count": 20,
   "id": "c8bee5b8-c2db-4f49-aab1-d293dce42cd9",
   "metadata": {},
   "outputs": [],
   "source": [
    "from sklearn.metrics import ConfusionMatrixDisplay"
   ]
  },
  {
   "cell_type": "code",
   "execution_count": 21,
   "id": "0c70f890-7cf8-4626-971a-9b3fe3b26d29",
   "metadata": {},
   "outputs": [
    {
     "data": {
      "text/plain": [
       "<sklearn.metrics._plot.confusion_matrix.ConfusionMatrixDisplay at 0x2ab00c72ac10>"
      ]
     },
     "execution_count": 21,
     "metadata": {},
     "output_type": "execute_result"
    },
    {
     "data": {
      "image/png": "[encoded data removed]",
      "text/plain": [
       "<Figure size 640x480 with 2 Axes>"
      ]
     },
     "metadata": {},
     "output_type": "display_data"
    }
   ],
   "source": [
    "ConfusionMatrixDisplay.from_predictions(conf_mat_df['y_true'], conf_mat_df['y_pred'], )\n"
   ]
  },
  {
   "cell_type": "code",
   "execution_count": 283,
   "id": "6d87e95d-77d7-4b94-9fa2-0940f66aea65",
   "metadata": {},
   "outputs": [],
   "source": [
    "from sklearn.metrics import classification_report"
   ]
  },
  {
   "cell_type": "code",
   "execution_count": 286,
   "id": "b0342021-f424-4d33-8dca-1618f321d085",
   "metadata": {},
   "outputs": [
    {
     "data": {
      "text/html": [
       "<div>\n",
       "<style scoped>\n",
       "    .dataframe tbody tr th:only-of-type {\n",
       "        vertical-align: middle;\n",
       "    }\n",
       "\n",
       "    .dataframe tbody tr th {\n",
       "        vertical-align: top;\n",
       "    }\n",
       "\n",
       "    .dataframe thead th {\n",
       "        text-align: right;\n",
       "    }\n",
       "</style>\n",
       "<table border=\"1\" class=\"dataframe\">\n",
       "  <thead>\n",
       "    <tr style=\"text-align: right;\">\n",
       "      <th></th>\n",
       "      <th>False</th>\n",
       "      <th>True</th>\n",
       "      <th>accuracy</th>\n",
       "      <th>macro avg</th>\n",
       "      <th>weighted avg</th>\n",
       "    </tr>\n",
       "  </thead>\n",
       "  <tbody>\n",
       "    <tr>\n",
       "      <th>precision</th>\n",
       "      <td>0.69697</td>\n",
       "      <td>0.784314</td>\n",
       "      <td>0.726667</td>\n",
       "      <td>0.740642</td>\n",
       "      <td>0.737730</td>\n",
       "    </tr>\n",
       "    <tr>\n",
       "      <th>recall</th>\n",
       "      <td>0.86250</td>\n",
       "      <td>0.571429</td>\n",
       "      <td>0.726667</td>\n",
       "      <td>0.716964</td>\n",
       "      <td>0.726667</td>\n",
       "    </tr>\n",
       "    <tr>\n",
       "      <th>f1-score</th>\n",
       "      <td>0.77095</td>\n",
       "      <td>0.661157</td>\n",
       "      <td>0.726667</td>\n",
       "      <td>0.716053</td>\n",
       "      <td>0.719713</td>\n",
       "    </tr>\n",
       "    <tr>\n",
       "      <th>support</th>\n",
       "      <td>80.00000</td>\n",
       "      <td>70.000000</td>\n",
       "      <td>0.726667</td>\n",
       "      <td>150.000000</td>\n",
       "      <td>150.000000</td>\n",
       "    </tr>\n",
       "  </tbody>\n",
       "</table>\n",
       "</div>"
      ],
      "text/plain": [
       "              False       True  accuracy   macro avg  weighted avg\n",
       "precision   0.69697   0.784314  0.726667    0.740642      0.737730\n",
       "recall      0.86250   0.571429  0.726667    0.716964      0.726667\n",
       "f1-score    0.77095   0.661157  0.726667    0.716053      0.719713\n",
       "support    80.00000  70.000000  0.726667  150.000000    150.000000"
      ]
     },
     "execution_count": 286,
     "metadata": {},
     "output_type": "execute_result"
    }
   ],
   "source": [
    "pd.DataFrame(classification_report(conf_mat_df['y_true'], conf_mat_df['y_pred'], output_dict=True))"
   ]
  },
  {
   "cell_type": "code",
   "execution_count": 22,
   "id": "84adac3d-a43e-4cb1-b219-e5505a61c238",
   "metadata": {},
   "outputs": [],
   "source": [
    "conf_mat_df['text'] = dev_doc_texts"
   ]
  },
  {
   "cell_type": "code",
   "execution_count": null,
   "id": "395bb2f1-a623-40be-adab-cd38fe75b2b6",
   "metadata": {},
   "outputs": [],
   "source": []
  },
  {
   "cell_type": "code",
   "execution_count": 23,
   "id": "feacc3d2-c55d-466c-b61c-dc3c3910d5cc",
   "metadata": {},
   "outputs": [],
   "source": [
    "nlp_df = pd.concat([nlp_df, score_df], axis=1)"
   ]
  },
  {
   "cell_type": "code",
   "execution_count": 29,
   "id": "7540bd30-c4b2-4fc6-a4b9-6aa0563922ca",
   "metadata": {},
   "outputs": [
    {
     "data": {
      "text/html": [
       "<div>\n",
       "<style scoped>\n",
       "    .dataframe tbody tr th:only-of-type {\n",
       "        vertical-align: middle;\n",
       "    }\n",
       "\n",
       "    .dataframe tbody tr th {\n",
       "        vertical-align: top;\n",
       "    }\n",
       "\n",
       "    .dataframe thead th {\n",
       "        text-align: right;\n",
       "    }\n",
       "</style>\n",
       "<table border=\"1\" class=\"dataframe\">\n",
       "  <thead>\n",
       "    <tr style=\"text-align: right;\">\n",
       "      <th></th>\n",
       "      <th>y_pred_score</th>\n",
       "      <th>y_true_score</th>\n",
       "      <th>y_pred</th>\n",
       "      <th>y_true</th>\n",
       "      <th>text</th>\n",
       "    </tr>\n",
       "  </thead>\n",
       "  <tbody>\n",
       "    <tr>\n",
       "      <th>0</th>\n",
       "      <td>0.812052</td>\n",
       "      <td>1.0</td>\n",
       "      <td>True</td>\n",
       "      <td>True</td>\n",
       "      <td>Yale New Haven Hospital-Ysc  YALE NEW HAVEN HO...</td>\n",
       "    </tr>\n",
       "    <tr>\n",
       "      <th>1</th>\n",
       "      <td>0.000585</td>\n",
       "      <td>0.0</td>\n",
       "      <td>False</td>\n",
       "      <td>False</td>\n",
       "      <td>YaleNewHavenHealth\\nEmergency Department Visit...</td>\n",
       "    </tr>\n",
       "    <tr>\n",
       "      <th>2</th>\n",
       "      <td>0.193504</td>\n",
       "      <td>0.0</td>\n",
       "      <td>False</td>\n",
       "      <td>False</td>\n",
       "      <td>Emergency Medicine Resident MDM\\n-------------...</td>\n",
       "    </tr>\n",
       "    <tr>\n",
       "      <th>3</th>\n",
       "      <td>0.883572</td>\n",
       "      <td>1.0</td>\n",
       "      <td>True</td>\n",
       "      <td>True</td>\n",
       "      <td>History\\nChief Complaint \\nPatient presents wi...</td>\n",
       "    </tr>\n",
       "    <tr>\n",
       "      <th>4</th>\n",
       "      <td>0.411855</td>\n",
       "      <td>0.0</td>\n",
       "      <td>False</td>\n",
       "      <td>False</td>\n",
       "      <td>11:37 AM pt presents to the ED with assistance...</td>\n",
       "    </tr>\n",
       "    <tr>\n",
       "      <th>...</th>\n",
       "      <td>...</td>\n",
       "      <td>...</td>\n",
       "      <td>...</td>\n",
       "      <td>...</td>\n",
       "      <td>...</td>\n",
       "    </tr>\n",
       "    <tr>\n",
       "      <th>145</th>\n",
       "      <td>0.539937</td>\n",
       "      <td>0.0</td>\n",
       "      <td>True</td>\n",
       "      <td>False</td>\n",
       "      <td>8:05 PM Pt presents to the ED for evaluation o...</td>\n",
       "    </tr>\n",
       "    <tr>\n",
       "      <th>146</th>\n",
       "      <td>0.514983</td>\n",
       "      <td>1.0</td>\n",
       "      <td>True</td>\n",
       "      <td>True</td>\n",
       "      <td>6:25 PM The pt is a 27 yo MAAF w/hx of OUD, CU...</td>\n",
       "    </tr>\n",
       "    <tr>\n",
       "      <th>147</th>\n",
       "      <td>0.879773</td>\n",
       "      <td>1.0</td>\n",
       "      <td>True</td>\n",
       "      <td>True</td>\n",
       "      <td>History\\nChief Complaint \\nPatient presents wi...</td>\n",
       "    </tr>\n",
       "    <tr>\n",
       "      <th>148</th>\n",
       "      <td>0.188357</td>\n",
       "      <td>0.0</td>\n",
       "      <td>False</td>\n",
       "      <td>False</td>\n",
       "      <td>Adult Psychiatric Evaluation  Emergency Depart...</td>\n",
       "    </tr>\n",
       "    <tr>\n",
       "      <th>149</th>\n",
       "      <td>0.777782</td>\n",
       "      <td>1.0</td>\n",
       "      <td>True</td>\n",
       "      <td>True</td>\n",
       "      <td>History\\nChief Complaint \\nPatient presents wi...</td>\n",
       "    </tr>\n",
       "  </tbody>\n",
       "</table>\n",
       "<p>150 rows × 5 columns</p>\n",
       "</div>"
      ],
      "text/plain": [
       "     y_pred_score  y_true_score  y_pred  y_true  \\\n",
       "0        0.812052           1.0    True    True   \n",
       "1        0.000585           0.0   False   False   \n",
       "2        0.193504           0.0   False   False   \n",
       "3        0.883572           1.0    True    True   \n",
       "4        0.411855           0.0   False   False   \n",
       "..            ...           ...     ...     ...   \n",
       "145      0.539937           0.0    True   False   \n",
       "146      0.514983           1.0    True    True   \n",
       "147      0.879773           1.0    True    True   \n",
       "148      0.188357           0.0   False   False   \n",
       "149      0.777782           1.0    True    True   \n",
       "\n",
       "                                                  text  \n",
       "0    Yale New Haven Hospital-Ysc  YALE NEW HAVEN HO...  \n",
       "1    YaleNewHavenHealth\\nEmergency Department Visit...  \n",
       "2    Emergency Medicine Resident MDM\\n-------------...  \n",
       "3    History\\nChief Complaint \\nPatient presents wi...  \n",
       "4    11:37 AM pt presents to the ED with assistance...  \n",
       "..                                                 ...  \n",
       "145  8:05 PM Pt presents to the ED for evaluation o...  \n",
       "146  6:25 PM The pt is a 27 yo MAAF w/hx of OUD, CU...  \n",
       "147  History\\nChief Complaint \\nPatient presents wi...  \n",
       "148  Adult Psychiatric Evaluation  Emergency Depart...  \n",
       "149  History\\nChief Complaint \\nPatient presents wi...  \n",
       "\n",
       "[150 rows x 5 columns]"
      ]
     },
     "execution_count": 29,
     "metadata": {},
     "output_type": "execute_result"
    }
   ],
   "source": [
    "conf_mat_df"
   ]
  },
  {
   "cell_type": "code",
   "execution_count": 30,
   "id": "e2d92a4f-ca6c-4510-adad-b4e03e985772",
   "metadata": {},
   "outputs": [],
   "source": [
    "# nlp_df['Prior_History_Incarceration_rec'] = np.where(nlp_df['Prior_History_Incarceration'].values > 0.5, True, False)\n"
   ]
  },
  {
   "cell_type": "code",
   "execution_count": null,
   "id": "f1239e91-c717-4fd9-a0e2-53e4b07f7363",
   "metadata": {},
   "outputs": [],
   "source": []
  },
  {
   "cell_type": "code",
   "execution_count": 34,
   "id": "2bda2f1e-7aa1-46a0-b286-f870d4504506",
   "metadata": {},
   "outputs": [
    {
     "data": {
      "text/plain": [
       "False    99\n",
       "True     51\n",
       "Name: y_pred, dtype: int64"
      ]
     },
     "execution_count": 34,
     "metadata": {},
     "output_type": "execute_result"
    }
   ],
   "source": [
    "conf_mat_df['y_pred'].value_counts()"
   ]
  },
  {
   "cell_type": "code",
   "execution_count": null,
   "id": "05577916-0098-47c6-8794-395b5341489c",
   "metadata": {},
   "outputs": [],
   "source": []
  },
  {
   "cell_type": "markdown",
   "id": "616a380c-6e06-4916-b86e-0e7b1a04850b",
   "metadata": {},
   "source": [
    "# Use SHAP"
   ]
  },
  {
   "cell_type": "code",
   "execution_count": 85,
   "id": "2d4975d9-fc63-48f5-9094-d26db0a65db2",
   "metadata": {},
   "outputs": [],
   "source": [
    "fp = conf_mat_df[(conf_mat_df['y_pred'] == True) & (conf_mat_df['y_true'] == False)]\n",
    "fn = conf_mat_df[(conf_mat_df['y_pred'] == False) & (conf_mat_df['y_true'] == True)]"
   ]
  },
  {
   "cell_type": "code",
   "execution_count": 36,
   "id": "0499c42d-4e0d-42a2-9bae-84d862dcf91c",
   "metadata": {},
   "outputs": [],
   "source": [
    "import shap"
   ]
  },
  {
   "cell_type": "code",
   "execution_count": 37,
   "id": "c15bc4fc-e105-47c6-8a71-46ac86e83eca",
   "metadata": {},
   "outputs": [
    {
     "data": {
      "text/plain": [
       "{'summary': {'transformer': {'assigns': ['doc._.trf_data'],\n",
       "   'requires': [],\n",
       "   'scores': [],\n",
       "   'retokenizes': False},\n",
       "  'textcat_multilabel': {'assigns': ['doc.cats'],\n",
       "   'requires': [],\n",
       "   'scores': ['cats_score',\n",
       "    'cats_score_desc',\n",
       "    'cats_micro_p',\n",
       "    'cats_micro_r',\n",
       "    'cats_micro_f',\n",
       "    'cats_macro_p',\n",
       "    'cats_macro_r',\n",
       "    'cats_macro_f',\n",
       "    'cats_macro_auc',\n",
       "    'cats_f_per_type',\n",
       "    'cats_macro_auc_per_type'],\n",
       "   'retokenizes': False}},\n",
       " 'problems': {'transformer': [], 'textcat_multilabel': []},\n",
       " 'attrs': {'doc._.trf_data': {'assigns': ['transformer'], 'requires': []},\n",
       "  'doc.cats': {'assigns': ['textcat_multilabel'], 'requires': []}}}"
      ]
     },
     "execution_count": 37,
     "metadata": {},
     "output_type": "execute_result"
    }
   ],
   "source": [
    "nlp.analyze_pipes()"
   ]
  },
  {
   "cell_type": "code",
   "execution_count": 41,
   "id": "d9024bea-657a-4a37-90fe-38b9244a10f1",
   "metadata": {},
   "outputs": [
    {
     "data": {
      "text/plain": [
       "{'Prior_History_Incarceration': 0.8120521306991577}"
      ]
     },
     "execution_count": 41,
     "metadata": {},
     "output_type": "execute_result"
    }
   ],
   "source": [
    "docs[0].cats"
   ]
  },
  {
   "cell_type": "code",
   "execution_count": 48,
   "id": "d0a640f4-5381-4a75-b52b-08bf7beb324a",
   "metadata": {},
   "outputs": [],
   "source": [
    "classes = list(nlp.get_pipe(\"textcat_multilabel\").labels)\n"
   ]
  },
  {
   "cell_type": "code",
   "execution_count": null,
   "id": "b0c4fb1e-f0ba-4c21-9ab7-f304cd21465d",
   "metadata": {},
   "outputs": [],
   "source": []
  },
  {
   "cell_type": "code",
   "execution_count": 49,
   "id": "335a4c86-c61e-4d0d-a114-bf35a03e8abb",
   "metadata": {},
   "outputs": [
    {
     "data": {
      "text/plain": [
       "[0.7777819633483887, 0.22221803665161133]"
      ]
     },
     "execution_count": 49,
     "metadata": {},
     "output_type": "execute_result"
    }
   ],
   "source": [
    "[doc.cats[cat] for cat in classes] + [1-doc.cats[cat] for cat in classes]"
   ]
  },
  {
   "cell_type": "code",
   "execution_count": 50,
   "id": "764d1da3-d688-4ed9-b955-96a4f905706d",
   "metadata": {},
   "outputs": [],
   "source": [
    "tokenizer_spacy = spacy.tokenizer.Tokenizer(nlp.vocab)\n",
    "classes = list(nlp.get_pipe(\"textcat_multilabel\").labels)\n",
    "# Define a function to predict\n",
    "def predict(texts):\n",
    "    # convert texts to bare strings\n",
    "    texts = [str(text) for text in texts]\n",
    "    results = []\n",
    "    for doc in nlp.pipe(texts):\n",
    "        # results.append([{'label': cat, 'score': doc.cats[cat]} for cat in doc.cats])\n",
    "        result = [doc.cats[cat] for cat in classes] + [1-doc.cats[cat] for cat in classes]        \n",
    "        results.append(result)\n",
    "    return results\n",
    "\n",
    "# Create a function to create a transformers-like tokenizer to match shap's expectations\n",
    "def tok_wrapper(text, return_offsets_mapping=False):\n",
    "    doc = tokenizer_spacy(text)\n",
    "    out = {\"input_ids\": [tok.norm for tok in doc]}\n",
    "    if return_offsets_mapping:\n",
    "        out[\"offset_mapping\"] = [(tok.idx, tok.idx + len(tok)) for tok in doc]\n",
    "    return out"
   ]
  },
  {
   "cell_type": "code",
   "execution_count": 51,
   "id": "47b4ecfc-73ea-47de-ad65-9a1a0a9f1543",
   "metadata": {},
   "outputs": [],
   "source": [
    "import shap\n",
    "# Create the Shap Explainer\n",
    "# - predict is the \"model\" function, adapted to a transformers-like model\n",
    "# - masker is the masker used by shap, which relies on a transformers-like tokenizer\n",
    "# - algorithm is set to permutation, which is the one used for transformers models\n",
    "# - output_names are the classes (although it is not propagated to the permutation explainer currently, which is why plots do not have the labels)\n",
    "# - max_evals is set to a high number to reduce the probability of cases where the explainer fails because there are too many tokens\n",
    "explainer = shap.Explainer(\n",
    "    predict,\n",
    "    masker=shap.maskers.Text(tok_wrapper),\n",
    "    algorithm=\"permutation\",\n",
    "    output_names=classes,\n",
    "    max_evals=5400,\n",
    ")"
   ]
  },
  {
   "cell_type": "code",
   "execution_count": 52,
   "id": "0d800dac-f5cb-4c72-8b68-ec7251422ee3",
   "metadata": {},
   "outputs": [
    {
     "data": {
      "text/plain": [
       "145    8:05 PM Pt presents to the ED for evaluation o...\n",
       "129    History\\nChief Complaint \\nPatient presents wi...\n",
       "59     Adult Psychiatric Evaluation  \\n\\t\\t\\t\\t\\t6/17...\n",
       "Name: text, dtype: object"
      ]
     },
     "execution_count": 52,
     "metadata": {},
     "output_type": "execute_result"
    }
   ],
   "source": [
    "misclassified['text'].sample(3)"
   ]
  },
  {
   "cell_type": "code",
   "execution_count": null,
   "id": "e32834ba-3014-492a-84ed-cc9740e5996a",
   "metadata": {},
   "outputs": [],
   "source": [
    "shapleys1 = fp['text'].sample(8)"
   ]
  },
  {
   "cell_type": "code",
   "execution_count": null,
   "id": "a44cf0ef-47e4-498f-b711-8f9c38f8a753",
   "metadata": {},
   "outputs": [],
   "source": [
    "shap_values = explainer(shapleys1.tolist())"
   ]
  },
  {
   "cell_type": "code",
   "execution_count": null,
   "id": "2f4083a2-4550-46be-8297-143d6d739a41",
   "metadata": {},
   "outputs": [],
   "source": [
    "shap_values.output_names = classes + ['No_Hx_Incarceration']"
   ]
  },
  {
   "cell_type": "code",
   "execution_count": null,
   "id": "bda6d713-9fce-40c2-ba6b-3026a3bbafa3",
   "metadata": {},
   "outputs": [],
   "source": [
    "output = shap.plots.text(shap_values, display=False)\n"
   ]
  },
  {
   "cell_type": "code",
   "execution_count": null,
   "id": "e4c598f7-8098-4607-a18b-41ef3850a0c5",
   "metadata": {},
   "outputs": [],
   "source": [
    "file ='false_positive_misclassified.html'\n",
    "with open(file, \"w\") as f:\n",
    "    f.write(output)"
   ]
  },
  {
   "cell_type": "code",
   "execution_count": null,
   "id": "47879de2-d4ce-4e96-832a-720343c59251",
   "metadata": {},
   "outputs": [],
   "source": []
  },
  {
   "cell_type": "code",
   "execution_count": null,
   "id": "b925c0cc-a2ab-4e5e-b04f-fd873ccd4f2f",
   "metadata": {},
   "outputs": [],
   "source": []
  },
  {
   "cell_type": "code",
   "execution_count": 289,
   "id": "cb3497f4-c234-4ec3-8f5d-ab64045fe197",
   "metadata": {},
   "outputs": [],
   "source": [
    "shapleys2 = fn['text'].sample(8)"
   ]
  },
  {
   "cell_type": "code",
   "execution_count": null,
   "id": "fe120e7f-daf1-48aa-b0e8-165645617323",
   "metadata": {},
   "outputs": [
    {
     "name": "stderr",
     "output_type": "stream",
     "text": [
      "Permutation explainer:  62%|██████▎   | 5/8 [04:29<03:06, 62.23s/it]"
     ]
    }
   ],
   "source": [
    "shap_values = explainer(shapleys2.tolist())"
   ]
  },
  {
   "cell_type": "code",
   "execution_count": null,
   "id": "b8fb11e9-87ac-46a7-8b74-e3d0a384bb1a",
   "metadata": {},
   "outputs": [],
   "source": [
    "shap_values.output_names = classes + ['No_Hx_Incarceration']"
   ]
  },
  {
   "cell_type": "code",
   "execution_count": null,
   "id": "7f9407eb-8b8a-41db-9790-a7b448612c46",
   "metadata": {},
   "outputs": [],
   "source": [
    "output = shap.plots.text(shap_values, display=False)\n"
   ]
  },
  {
   "cell_type": "code",
   "execution_count": null,
   "id": "7a704778-ade3-413c-8f5e-2e5eea535118",
   "metadata": {},
   "outputs": [],
   "source": [
    "file ='false_negative_misclassified.html'\n",
    "with open(file, \"w\") as f:\n",
    "    f.write(output)"
   ]
  },
  {
   "cell_type": "code",
   "execution_count": null,
   "id": "88af8fb5-7b52-4d57-af82-713aff6fefcb",
   "metadata": {},
   "outputs": [],
   "source": []
  },
  {
   "cell_type": "markdown",
   "id": "4b94014d-f669-4e1d-a9cb-917b59dbcd22",
   "metadata": {},
   "source": [
    "# Dig into model performance"
   ]
  },
  {
   "cell_type": "code",
   "execution_count": 268,
   "id": "c3cbd24f-b2c6-4ee0-93b0-e7410e6e5b61",
   "metadata": {},
   "outputs": [],
   "source": [
    "import matplotlib.pyplot as plt"
   ]
  },
  {
   "cell_type": "code",
   "execution_count": 282,
   "id": "d2997210-d235-4371-aa1b-c0139b435f1e",
   "metadata": {},
   "outputs": [
    {
     "data": {
      "image/png": "[encoded data removed]",
      "text/plain": [
       "<Figure size 1200x800 with 12 Axes>"
      ]
     },
     "metadata": {},
     "output_type": "display_data"
    }
   ],
   "source": [
    "fig, axs = plt.subplots(2,3, \n",
    "                        figsize=(12,8),\n",
    "                       sharex=\"all\", sharey=\"all\")\n",
    "\n",
    "ConfusionMatrixDisplay.from_predictions(conf_mat_df['y_true'],\n",
    "                                        conf_mat_df['y_pred'],\n",
    "                                        normalize=\"all\",\n",
    "                                       ax=axs[0][0])\n",
    "axs[0][0].set_title(\"All Dev Set\")\n",
    "\n",
    "subset1 = conf_mat_df[conf_mat_df['text'].str.contains(\"parole\", flags=re.IGNORECASE)]\n",
    "ConfusionMatrixDisplay.from_predictions(subset1['y_true'], \n",
    "                                        subset1['y_pred'], \n",
    "                                        normalize=\"all\",\n",
    "                                        ax=axs[0][1])\n",
    "axs[0][1].set_title(\"parole\", weight=\"bold\")\n",
    "\n",
    "subset2 = conf_mat_df[conf_mat_df['text'].str.contains(\"violent\", flags=re.IGNORECASE)]\n",
    "ConfusionMatrixDisplay.from_predictions(subset2['y_true'], \n",
    "                                        subset2['y_pred'], \n",
    "                                        normalize=\"all\",\n",
    "                                        ax=axs[0][2])\n",
    "axs[0][2].set_title(\"violent\", weight=\"bold\")\n",
    "\n",
    "subset3 = conf_mat_df[conf_mat_df['text'].str.contains(\"prison\", flags=re.IGNORECASE)]\n",
    "ConfusionMatrixDisplay.from_predictions(subset3['y_true'], \n",
    "                                        subset3['y_pred'], \n",
    "                                        normalize=\"all\",\n",
    "                                        ax=axs[1][0])\n",
    "axs[1][0].set_title(\"prison\", weight=\"bold\")\n",
    "\n",
    "subset4 = conf_mat_df[conf_mat_df['text'].str.contains(r\"probation\", flags=re.IGNORECASE)]\n",
    "ConfusionMatrixDisplay.from_predictions(subset4['y_true'], \n",
    "                                        subset4['y_pred'], \n",
    "                                        normalize=\"all\",\n",
    "                                        ax=axs[1][1])\n",
    "axs[1][1].set_title(\"probation\", weight=\"bold\")\n",
    "\n",
    "subset4 = conf_mat_df[conf_mat_df['text'].str.contains(r\"overdose\", flags=re.IGNORECASE)]\n",
    "ConfusionMatrixDisplay.from_predictions(subset4['y_true'], \n",
    "                                        subset4['y_pred'], \n",
    "                                        normalize=\"all\",\n",
    "                                        ax=axs[1][2])\n",
    "axs[1][2].set_title(\"overdose\", weight=\"bold\")\n",
    "\n",
    "fig.tight_layout(pad=0.5)\n",
    "\n",
    "plt.savefig(\"X.png\")"
   ]
  },
  {
   "cell_type": "code",
   "execution_count": null,
   "id": "3abd8afb-e8b3-48ee-86b7-66d51de2ba86",
   "metadata": {},
   "outputs": [],
   "source": []
  },
  {
   "cell_type": "code",
   "execution_count": null,
   "id": "d2aa2b7e-1d01-4d73-bc28-ee099a3cf5fe",
   "metadata": {},
   "outputs": [],
   "source": []
  },
  {
   "cell_type": "code",
   "execution_count": null,
   "id": "bcbd573e-f0e4-403e-b565-e90f6045cbcf",
   "metadata": {},
   "outputs": [],
   "source": []
  },
  {
   "cell_type": "code",
   "execution_count": null,
   "id": "6d51792e-984f-4606-bec7-b9db522652d3",
   "metadata": {},
   "outputs": [],
   "source": []
  },
  {
   "cell_type": "code",
   "execution_count": null,
   "id": "16367021-2c68-4b6a-aca6-76568acaf4a6",
   "metadata": {},
   "outputs": [],
   "source": []
  },
  {
   "cell_type": "code",
   "execution_count": null,
   "id": "749cc709-8eb4-4c4e-a5bd-b9d622b6c3aa",
   "metadata": {},
   "outputs": [],
   "source": []
  },
  {
   "cell_type": "code",
   "execution_count": null,
   "id": "ec1c46b5-28b1-4855-bcc2-06e08489be86",
   "metadata": {},
   "outputs": [],
   "source": []
  },
  {
   "cell_type": "code",
   "execution_count": null,
   "id": "1906340a-00fa-4fee-ba9d-8c642f79305d",
   "metadata": {},
   "outputs": [],
   "source": []
  },
  {
   "cell_type": "code",
   "execution_count": null,
   "id": "de99139c-b2c7-4a07-8413-5097b7294844",
   "metadata": {},
   "outputs": [],
   "source": []
  },
  {
   "cell_type": "code",
   "execution_count": null,
   "id": "47ffc37c-57a2-4044-b2e1-28046d7eccad",
   "metadata": {},
   "outputs": [],
   "source": []
  },
  {
   "cell_type": "code",
   "execution_count": null,
   "id": "4703bb93-24f0-4605-86cf-ae3436c4f343",
   "metadata": {},
   "outputs": [],
   "source": []
  },
  {
   "cell_type": "code",
   "execution_count": null,
   "id": "02a863fe-fcdc-485f-b30c-a1ec0ef3e228",
   "metadata": {},
   "outputs": [],
   "source": []
  }
 ],
 "metadata": {
  "kernelspec": {
   "display_name": "Python 3",
   "language": "python",
   "name": "python3"
  },
  "language_info": {
   "codemirror_mode": {
    "name": "ipython",
    "version": 3
   },
   "file_extension": ".py",
   "mimetype": "text/x-python",
   "name": "python",
   "nbconvert_exporter": "python",
   "pygments_lexer": "ipython3",
   "version": "3.9.13"
  }
 },
 "nbformat": 4,
 "nbformat_minor": 5
}
